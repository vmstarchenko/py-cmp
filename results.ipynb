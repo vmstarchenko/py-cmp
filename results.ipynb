{
 "cells": [
  {
   "cell_type": "code",
   "execution_count": 1,
   "metadata": {},
   "outputs": [],
   "source": [
    "from cmp import main\n",
    "from matplotlib import pyplot as plt"
   ]
  },
  {
   "cell_type": "code",
   "execution_count": 23,
   "metadata": {},
   "outputs": [],
   "source": [
    "colors = {\n",
    "    \"python\": \"#008b8b\",\n",
    "    \"python2\": \"#008b8b\",\n",
    "    \"pypy\": \"#008b8b\",\n",
    "    \"c++\": \"pink\",\n",
    "    \"java\": \"brown\",\n",
    "    \"lisp\": \"cyan\",\n",
    "    \"clisp\": \"cyan\",\n",
    "}"
   ]
  },
  {
   "cell_type": "code",
   "execution_count": 2,
   "metadata": {},
   "outputs": [
    {
     "name": "stderr",
     "output_type": "stream",
     "text": [
      "WARNING:root:command 'pypy' not found (pypy would be skipped)\n",
      "WARNING:root:command 'clisp' not found (clisp would be skipped)\n",
      "WARNING:root:executor ipython not found\n"
     ]
    },
    {
     "name": "stdout",
     "output_type": "stream",
     "text": [
      "{'data': [('c++', 0.005833854508954425),\n",
      "          ('java', 0.07635915279388428),\n",
      "          ('lisp', 0.01246352254608531),\n",
      "          ('python', 0.03438959916432698),\n",
      "          ('python2', 0.017135199853929424)],\n",
      " 'program': 'hello_world'}\n"
     ]
    },
    {
     "name": "stderr",
     "output_type": "stream",
     "text": [
      "WARNING:root:executor ipython not found\n"
     ]
    },
    {
     "name": "stdout",
     "output_type": "stream",
     "text": [
      "{'data': [('c++', 0.011554304210618994),\n",
      "          ('java', 0.08451209465662639),\n",
      "          ('lisp', 0.04425262368243674),\n",
      "          ('python', 0.4270164171854655),\n",
      "          ('python2', 0.3434421221415202)],\n",
      " 'program': 'fibonacci'}\n"
     ]
    }
   ],
   "source": [
    "results = main()"
   ]
  },
  {
   "cell_type": "code",
   "execution_count": 24,
   "metadata": {},
   "outputs": [],
   "source": [
    "def plot_result(program, data):\n",
    "    plt.title('program: %s' % program)\n",
    "    plt.bar([d[0] for d in data], height=[d[1] for d in data], color=[colors[d[0]] for d in data])\n",
    "    plt.ylabel('seconds')\n",
    "    plt.show()"
   ]
  },
  {
   "cell_type": "code",
   "execution_count": 25,
   "metadata": {},
   "outputs": [
    {
     "data": {
      "image/png": "[encoded data removed]",
      "text/plain": [
       "<Figure size 432x288 with 1 Axes>"
      ]
     },
     "metadata": {},
     "output_type": "display_data"
    },
    {
     "data": {
      "image/png": "[encoded data removed]",
      "text/plain": [
       "<Figure size 432x288 with 1 Axes>"
      ]
     },
     "metadata": {},
     "output_type": "display_data"
    }
   ],
   "source": [
    "for result in results:\n",
    "    plot_result(**result)"
   ]
  },
  {
   "cell_type": "code",
   "execution_count": null,
   "metadata": {},
   "outputs": [],
   "source": []
  },
  {
   "cell_type": "code",
   "execution_count": null,
   "metadata": {},
   "outputs": [],
   "source": []
  },
  {
   "cell_type": "code",
   "execution_count": null,
   "metadata": {},
   "outputs": [],
   "source": []
  }
 ],
 "metadata": {
  "kernelspec": {
   "display_name": "Python 3",
   "language": "python",
   "name": "python3"
  },
  "language_info": {
   "codemirror_mode": {
    "name": "ipython",
    "version": 3
   },
   "file_extension": ".py",
   "mimetype": "text/x-python",
   "name": "python",
   "nbconvert_exporter": "python",
   "pygments_lexer": "ipython3",
   "version": "3.6.4"
  }
 },
 "nbformat": 4,
 "nbformat_minor": 2
}
