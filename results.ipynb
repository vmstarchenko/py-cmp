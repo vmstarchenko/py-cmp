{
 "cells": [
  {
   "cell_type": "code",
   "execution_count": 1,
   "metadata": {},
   "outputs": [],
   "source": [
    "import os\n",
    "\n",
    "from cmp import main\n",
    "from matplotlib import pyplot as plt"
   ]
  },
  {
   "cell_type": "code",
   "execution_count": 2,
   "metadata": {},
   "outputs": [],
   "source": [
    "colors = {\n",
    "    \"python\": \"#008b8b\",\n",
    "    \"python2\": \"#004b4b\",\n",
    "    \"pypy\": \"#008b8b\",\n",
    "    \"nuitka\": \"#7fff00\",\n",
    "    \"cython\": \"#ffa500\",\n",
    "    \"cython_with_types\": \"#ef9500\",\n",
    "    \"c++\": \"pink\",\n",
    "    \"java\": \"brown\",\n",
    "    \"lisp\": \"cyan\",\n",
    "    \"clisp\": \"cyan\",\n",
    "}"
   ]
  },
  {
   "cell_type": "code",
   "execution_count": 3,
   "metadata": {},
   "outputs": [
    {
     "name": "stderr",
     "output_type": "stream",
     "text": [
      "WARNING:root:command ['pypy'] not found (pypy would be skipped)\n",
      "WARNING:root:command ['clisp'] not found (clisp would be skipped)\n"
     ]
    },
    {
     "name": "stdout",
     "output_type": "stream",
     "text": [
      "{'data': [('c++', 0.005363357258353004),\n",
      "          ('cython', 0.026026585163214266),\n",
      "          ('cython_with_types', 0.02494919009324981),\n",
      "          ('java', 0.07871563617999737),\n",
      "          ('lisp', 0.011604339226909068),\n",
      "          ('nuitka', 0.052041161060333255),\n",
      "          ('python', 0.03402419090270996),\n",
      "          ('python2', 0.015787113457918167)],\n",
      " 'program': 'hello_world'}\n",
      "{'data': [('c++', 0.009760352014337928),\n",
      "          ('cython', 0.18672716617584229),\n",
      "          ('cython_with_types', 0.1565277235848563),\n",
      "          ('java', 0.0843951885516827),\n",
      "          ('lisp', 0.04451289384261421),\n",
      "          ('nuitka', 0.2625117897987366),\n",
      "          ('python', 0.44136937459309894),\n",
      "          ('python2', 0.3577264944712321)],\n",
      " 'program': 'fibonacci'}\n"
     ]
    }
   ],
   "source": [
    "results = main()"
   ]
  },
  {
   "cell_type": "code",
   "execution_count": 6,
   "metadata": {},
   "outputs": [],
   "source": [
    "def plot_result(program, data):\n",
    "    plt.title('program: %s' % program)\n",
    "    plt.barh([d[0] for d in data], width=[d[1] for d in data], color=[colors[d[0]] for d in data], )\n",
    "    plt.xlabel('seconds')\n",
    "    plt.savefig(os.path.join('etc/img/', '%s.png' % program))\n",
    "    plt.show()"
   ]
  },
  {
   "cell_type": "code",
   "execution_count": 7,
   "metadata": {
    "scrolled": false
   },
   "outputs": [
    {
     "data": {
      "image/png": "[encoded data removed]",
      "text/plain": [
       "<Figure size 432x288 with 1 Axes>"
      ]
     },
     "metadata": {},
     "output_type": "display_data"
    },
    {
     "data": {
      "image/png": "[encoded data removed]",
      "text/plain": [
       "<Figure size 432x288 with 1 Axes>"
      ]
     },
     "metadata": {},
     "output_type": "display_data"
    }
   ],
   "source": [
    "for result in results:\n",
    "    plot_result(**result)"
   ]
  },
  {
   "cell_type": "code",
   "execution_count": null,
   "metadata": {},
   "outputs": [],
   "source": []
  },
  {
   "cell_type": "code",
   "execution_count": null,
   "metadata": {},
   "outputs": [],
   "source": []
  },
  {
   "cell_type": "code",
   "execution_count": null,
   "metadata": {},
   "outputs": [],
   "source": []
  }
 ],
 "metadata": {
  "kernelspec": {
   "display_name": "Python 3",
   "language": "python",
   "name": "python3"
  },
  "language_info": {
   "codemirror_mode": {
    "name": "ipython",
    "version": 3
   },
   "file_extension": ".py",
   "mimetype": "text/x-python",
   "name": "python",
   "nbconvert_exporter": "python",
   "pygments_lexer": "ipython3",
   "version": "3.6.4"
  }
 },
 "nbformat": 4,
 "nbformat_minor": 2
}
