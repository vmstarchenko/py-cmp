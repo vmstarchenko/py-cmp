{
 "cells": [
  {
   "cell_type": "code",
   "execution_count": 1,
   "metadata": {},
   "outputs": [],
   "source": [
    "from cmp import main\n",
    "from matplotlib import pyplot as plt"
   ]
  },
  {
   "cell_type": "code",
   "execution_count": 6,
   "metadata": {},
   "outputs": [],
   "source": [
    "colors = {\n",
    "    \"python\": \"#008b8b\",\n",
    "    \"python2\": \"#004b4b\",\n",
    "    \"pypy\": \"#008b8b\",\n",
    "    \"nuitka\": \"#7fff00\",\n",
    "    \"cython\": \"#ffa500\",\n",
    "    \"cython_with_types\": \"#ef9500\",\n",
    "    \"c++\": \"pink\",\n",
    "    \"java\": \"brown\",\n",
    "    \"lisp\": \"cyan\",\n",
    "    \"clisp\": \"cyan\",\n",
    "}"
   ]
  },
  {
   "cell_type": "code",
   "execution_count": 3,
   "metadata": {},
   "outputs": [
    {
     "name": "stderr",
     "output_type": "stream",
     "text": [
      "WARNING:root:command ['pypy'] not found (pypy would be skipped)\n",
      "WARNING:root:command ['clisp'] not found (clisp would be skipped)\n"
     ]
    },
    {
     "name": "stdout",
     "output_type": "stream",
     "text": [
      "{'data': [('c++', 0.005130701798659105),\n",
      "          ('cython', 0.025693165950286083),\n",
      "          ('cython_with_types', 0.025460875034332274),\n",
      "          ('java', 0.07630186421530587),\n",
      "          ('lisp', 0.01165110288664352),\n",
      "          ('nuitka', 0.05483597203304893),\n",
      "          ('python', 0.03528180615655307),\n",
      "          ('python2', 0.01638069075922812)],\n",
      " 'program': 'hello_world'}\n",
      "{'data': [('c++', 0.011013235364641463),\n",
      "          ('cython', 0.2334599494934082),\n",
      "          ('cython_with_types', 0.1941434939702352),\n",
      "          ('java', 0.101051664352417),\n",
      "          ('lisp', 0.04905164809454055),\n",
      "          ('nuitka', 0.3480540911356608),\n",
      "          ('python', 0.597278356552124),\n",
      "          ('python2', 0.4319757620493571)],\n",
      " 'program': 'fibonacci'}\n"
     ]
    }
   ],
   "source": [
    "results = main()"
   ]
  },
  {
   "cell_type": "code",
   "execution_count": 33,
   "metadata": {},
   "outputs": [],
   "source": [
    "def plot_result(program, data):\n",
    "    plt.title('program: %s' % program)\n",
    "    plt.barh([d[0] for d in data], width=[d[1] for d in data], color=[colors[d[0]] for d in data], )\n",
    "    plt.xlabel('seconds')\n",
    "    plt.show()"
   ]
  },
  {
   "cell_type": "code",
   "execution_count": 34,
   "metadata": {
    "scrolled": false
   },
   "outputs": [
    {
     "data": {
      "image/png": "[encoded data removed]",
      "text/plain": [
       "<Figure size 432x288 with 1 Axes>"
      ]
     },
     "metadata": {},
     "output_type": "display_data"
    },
    {
     "data": {
      "image/png": "[encoded data removed]",
      "text/plain": [
       "<Figure size 432x288 with 1 Axes>"
      ]
     },
     "metadata": {},
     "output_type": "display_data"
    }
   ],
   "source": [
    "for result in results:\n",
    "    plot_result(**result)"
   ]
  },
  {
   "cell_type": "code",
   "execution_count": null,
   "metadata": {},
   "outputs": [],
   "source": []
  },
  {
   "cell_type": "code",
   "execution_count": null,
   "metadata": {},
   "outputs": [],
   "source": []
  },
  {
   "cell_type": "code",
   "execution_count": null,
   "metadata": {},
   "outputs": [],
   "source": []
  }
 ],
 "metadata": {
  "kernelspec": {
   "display_name": "Python 3",
   "language": "python",
   "name": "python3"
  },
  "language_info": {
   "codemirror_mode": {
    "name": "ipython",
    "version": 3
   },
   "file_extension": ".py",
   "mimetype": "text/x-python",
   "name": "python",
   "nbconvert_exporter": "python",
   "pygments_lexer": "ipython3",
   "version": "3.6.4"
  }
 },
 "nbformat": 4,
 "nbformat_minor": 2
}
